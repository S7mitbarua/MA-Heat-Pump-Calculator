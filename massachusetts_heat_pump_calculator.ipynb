{
  "nbformat": 4,
  "nbformat_minor": 0,
  "metadata": {
    "colab": {
      "provenance": [],
      "authorship_tag": "ABX9TyPTIiGy3coNH2eXTNC77YCg",
      "include_colab_link": true
    },
    "kernelspec": {
      "name": "python3",
      "display_name": "Python 3"
    },
    "language_info": {
      "name": "python"
    }
  },
  "cells": [
    {
      "cell_type": "markdown",
      "metadata": {
        "id": "view-in-github",
        "colab_type": "text"
      },
      "source": [
        "<a href=\"https://colab.research.google.com/github/S7mitbarua/MA-Heat-Pump-Calculator/blob/main/massachusetts_heat_pump_calculator.ipynb\" target=\"_parent\"><img src=\"https://colab.research.google.com/assets/colab-badge.svg\" alt=\"Open In Colab\"/></a>"
      ]
    },
    {
      "cell_type": "code",
      "execution_count": 1,
      "metadata": {
        "id": "XPctB727-1QM"
      },
      "outputs": [],
      "source": [
        "# Step 1: Set up the calculator\n",
        "# We'll create a simple function to calculate heat pump usage based on user input for temperature, heating system efficiency, and target indoor temperature.\n",
        "def heat_pump_usage_calculator(temperature, heating_system_efficiency, target_indoor_temperature):\n",
        "    heat_needed = (target_indoor_temperature - temperature) / heating_system_efficiency\n",
        "    return heat_needed\n"
      ]
    },
    {
      "cell_type": "code",
      "source": [
        "# Step 2: Get the weather data for Boston, MA\n",
        "# You can use weather APIs or web scraping to get the current weather data for Boston. For simplicity, we'll use some dummy data for demonstration purposes.\n",
        "def get_current_temperature(city):\n",
        "    # Replace this with actual weather data API call or web scraping\n",
        "    dummy_weather_data = {\n",
        "        'Boston': 40  # Dummy temperature in Fahrenheit for Boston\n",
        "    }\n",
        "    return dummy_weather_data.get(city, 40)  # Return 40°F if city not found"
      ],
      "metadata": {
        "id": "bQtxE2SJCpN2"
      },
      "execution_count": 2,
      "outputs": []
    },
    {
      "cell_type": "code",
      "source": [
        "# Step 3: Get user input and calculate heat pump usage\n",
        "def main():\n",
        "    state = 'Massachusetts'\n",
        "    city = input(\"Enter a city in Massachusetts: \")\n",
        "    temperature = get_current_temperature(city)\n",
        "\n",
        "    print(f\"Current temperature in {city}, {state}: {temperature}°F\")\n",
        "\n",
        "    heating_system_efficiency = float(input(\"Enter heating system efficiency (as a decimal): \"))\n",
        "    target_indoor_temperature = float(input(\"Enter the target indoor temperature (°F): \"))\n",
        "\n",
        "    heat_needed = heat_pump_usage_calculator(temperature, heating_system_efficiency, target_indoor_temperature)\n",
        "\n",
        "    print(f\"Heat needed to reach {target_indoor_temperature}°F indoors: {heat_needed:.2f} BTUs\")"
      ],
      "metadata": {
        "id": "4ZRoY0xkDOlB"
      },
      "execution_count": 3,
      "outputs": []
    },
    {
      "cell_type": "code",
      "source": [
        "# Step 4: Run the program\n",
        "# Run the main() function to execute the heat pump usage calculator.\n",
        "main()"
      ],
      "metadata": {
        "colab": {
          "base_uri": "https://localhost:8080/"
        },
        "id": "Ia_KDKplDVuc",
        "outputId": "3eee350b-b8d4-480e-84bd-e0a7cb44cdf3"
      },
      "execution_count": 4,
      "outputs": [
        {
          "output_type": "stream",
          "name": "stdout",
          "text": [
            "Enter a city in Massachusetts: Cambridge\n",
            "Current temperature in Cambridge, Massachusetts: 40°F\n",
            "Enter heating system efficiency (as a decimal): 20.5\n",
            "Enter the target indoor temperature (°F): 55\n",
            "Heat needed to reach 55.0°F indoors: 0.73 BTUs\n"
          ]
        }
      ]
    }
  ]
}